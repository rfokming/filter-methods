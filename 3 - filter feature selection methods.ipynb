{
 "cells": [
  {
   "cell_type": "code",
   "execution_count": null,
   "id": "1eda6429",
   "metadata": {},
   "outputs": [],
   "source": [
    "'''\n",
    "Introduction to Feature Selection Methods\n",
    "Learn about the pros and cons of different feature selection methods.\n",
    "\n",
    "Introduction and motivation\n",
    "Imagine you want to build a machine learning model for predicting the presence of a disease, \n",
    "and you have a dataset of patient records containing hundreds of different metrics, from \n",
    "demographic characteristics to medical test results to past treatment history. \n",
    "While having access to so many data points is always a good starting point, \n",
    "you most likely would not want to use all of the available features to construct your model, \n",
    "as many of them can be redundant or irrelevant, and would only serve to contribute unnecessary noise. \n",
    "Instead, a more effective approach is to select only a subset of relevant, predictive features to use in your model\n",
    "— this process is known as feature selection.\n",
    "\n",
    "Feature selection is an important step in the machine learning pipeline, \n",
    "and when done right, can optimize the performance and predictive power of your model.\n",
    "The goal is to improve the model’s accuracy and efficiency by eliminating extraneous variables that \n",
    "do not contribute any useful information. In addition, simplifying the model through feature selection \n",
    "not only makes the results more easily interpretable, but also reduces the time and resources required\n",
    "to run the model.\n",
    "\n",
    "There are three broad categories of feature selection that we will discuss in this article: \n",
    "filter methods, wrapper methods, and embedded methods.\n",
    "\n",
    "Feature Selection Methods\n",
    "\n",
    "\n",
    "Filter methods:\n",
    "Filter methods are the simplest type of feature selection method. \n",
    "They work by filtering features prior to model building based on some criteria.\n",
    "\n",
    "Advantages\n",
    "They are computationally inexpensive, since they do not involve testing the subsetted features using a model.\n",
    "They can work for any type of machine learning model.\n",
    "Disadvantages\n",
    "It is more difficult to take multivariate relationships into account because we are not evaluating model performance. For example, a variable might not have much predictive power on its own, but can be informative when combined with other variables.\n",
    "They are not tailored toward specific types of models.\n",
    "Examples\n",
    "Variance thresholds\n",
    "Correlation\n",
    "Mutual information\n",
    "\n",
    "\n",
    "Wrapper methods:\n",
    "Wrapper methods involve fitting a model and evaluating its performance for a particular subset of features. They work by using a search algorithm to find which combination of features can optimize the performance of a given model.\n",
    "\n",
    "Advantages\n",
    "They can determine the optimal set of features that produce the best results for a specific machine learning problem.\n",
    "They can better account for multivariate relationships because model performance is evaluated.\n",
    "Disadvantages\n",
    "They are computationally expensive because the model needs to be re-fitted for each feature set being tested.\n",
    "Examples\n",
    "Forward/backward/bidirectional sequential feature selection\n",
    "Recursive feature elimination\n",
    "\n",
    "\n",
    "Embedded methods:\n",
    "Embedded methods also involve building and evaluating models for different feature subsets, \n",
    "but their feature selection process happens at the same time as their model fitting step.\n",
    "\n",
    "Advantages\n",
    "Like wrapper methods, they can optimize the feature set for a particular model and account for multivariate relationships.\n",
    "They are also generally less computationally expensive because feature selection happens during model training.\n",
    "Examples\n",
    "Regularization (e.g., lasso/ridge regression)\n",
    "Tree-based feature importance\n",
    "Conclusion\n",
    "When it comes to the number of features to keep for your model, more is not always better. It is worth being selective about which features to retain in order to maximize performance and reduce noise. Therefore, finding and implementing the right feature selection method is a key part of developing an effective and reliable model.\n",
    "'''"
   ]
  },
  {
   "cell_type": "code",
   "execution_count": 1,
   "id": "3d6ac1b1",
   "metadata": {},
   "outputs": [
    {
     "name": "stdout",
     "output_type": "stream",
     "text": [
      "    edu_goal  hours_study  hours_TV  hours_sleep  height_cm  grade_level  \\\n",
      "0  bachelors            1         4           10        155            8   \n",
      "1  bachelors            2         3           10        151            8   \n",
      "2  bachelors            3         4            8        160            8   \n",
      "3    masters            3         3            8        160            8   \n",
      "4    masters            3         2            6        156            8   \n",
      "5    masters            4         3            6        150            8   \n",
      "6    masters            3         2            8        164            8   \n",
      "7        phd            4         2            8        151            8   \n",
      "8        phd            5         1           10        158            8   \n",
      "9        phd            5         1           10        152            8   \n",
      "\n",
      "   exam_score  \n",
      "0          71  \n",
      "1          72  \n",
      "2          78  \n",
      "3          79  \n",
      "4          85  \n",
      "5          86  \n",
      "6          92  \n",
      "7          93  \n",
      "8          99  \n",
      "9         100  \n"
     ]
    }
   ],
   "source": [
    "import pandas as pd\n",
    " \n",
    "df = pd.DataFrame(data={\n",
    "    'edu_goal': ['bachelors', 'bachelors', 'bachelors', 'masters', 'masters', 'masters', 'masters', 'phd', 'phd', 'phd'],\n",
    "    'hours_study': [1, 2, 3, 3, 3, 4, 3, 4, 5, 5],\n",
    "    'hours_TV': [4, 3, 4, 3, 2, 3, 2, 2, 1, 1],\n",
    "    'hours_sleep': [10, 10, 8, 8, 6, 6, 8, 8, 10, 10],\n",
    "    'height_cm': [155, 151, 160, 160, 156, 150, 164, 151, 158, 152],\n",
    "    'grade_level': [8, 8, 8, 8, 8, 8, 8, 8, 8, 8],\n",
    "    'exam_score': [71, 72, 78, 79, 85, 86, 92, 93, 99, 100]\n",
    "})\n",
    " \n",
    "print(df)"
   ]
  },
  {
   "cell_type": "code",
   "execution_count": 2,
   "id": "2833d121",
   "metadata": {},
   "outputs": [
    {
     "name": "stdout",
     "output_type": "stream",
     "text": [
      "    edu_goal  hours_study  hours_TV  hours_sleep  height_cm  grade_level\n",
      "0  bachelors            1         4           10        155            8\n",
      "1  bachelors            2         3           10        151            8\n",
      "2  bachelors            3         4            8        160            8\n",
      "3    masters            3         3            8        160            8\n",
      "4    masters            3         2            6        156            8\n",
      "5    masters            4         3            6        150            8\n",
      "6    masters            3         2            8        164            8\n",
      "7        phd            4         2            8        151            8\n",
      "8        phd            5         1           10        158            8\n",
      "9        phd            5         1           10        152            8\n"
     ]
    }
   ],
   "source": [
    "#drop the target from x\n",
    "# 10 x 6 features matrix\n",
    "X = df.drop(columns=['exam_score'])\n",
    " \n",
    "print(X)"
   ]
  },
  {
   "cell_type": "code",
   "execution_count": 3,
   "id": "5059f73e",
   "metadata": {},
   "outputs": [
    {
     "name": "stdout",
     "output_type": "stream",
     "text": [
      "0     71\n",
      "1     72\n",
      "2     78\n",
      "3     79\n",
      "4     85\n",
      "5     86\n",
      "6     92\n",
      "7     93\n",
      "8     99\n",
      "9    100\n",
      "Name: exam_score, dtype: int64\n"
     ]
    }
   ],
   "source": [
    "#put the target into y\n",
    "y = df['exam_score']\n",
    " \n",
    "print(y)"
   ]
  },
  {
   "cell_type": "code",
   "execution_count": 4,
   "id": "edf36ede",
   "metadata": {},
   "outputs": [
    {
     "name": "stdout",
     "output_type": "stream",
     "text": [
      "   hours_study  hours_TV  hours_sleep  height_cm  grade_level\n",
      "0            1         4           10        155            8\n",
      "1            2         3           10        151            8\n",
      "2            3         4            8        160            8\n",
      "3            3         3            8        160            8\n",
      "4            3         2            6        156            8\n",
      "5            4         3            6        150            8\n",
      "6            3         2            8        164            8\n",
      "7            4         2            8        151            8\n",
      "8            5         1           10        158            8\n",
      "9            5         1           10        152            8\n"
     ]
    }
   ],
   "source": [
    "'''\n",
    "Variance threshold\n",
    "One of the most basic filter methods is to use a variance threshold to remove any features that have \n",
    "little to no variation in their values. This is because features with low variance do not \n",
    "contribute much information to a model. Since variance can only be calculated on numeric values, \n",
    "this method only works on quantitative features. That said, we may also want to remove categorical \n",
    "features for which all or a majority of the values are the same. To do that, we would need to dummy code \n",
    "the categorical variables first, but we won’t demonstrate that here.\n",
    "\n",
    "In our example dataset, edu_goal is the only feature that is not numeric. \n",
    "We can use the .drop() method to remove it from our features DataFrame and store the remaining numeric features \n",
    "in X_num:\n",
    "\n",
    "'''\n",
    "\n",
    "X_num = X.drop(columns=['edu_goal'])\n",
    " \n",
    "print(X_num)"
   ]
  },
  {
   "cell_type": "code",
   "execution_count": 5,
   "id": "5808302a",
   "metadata": {},
   "outputs": [
    {
     "name": "stdout",
     "output_type": "stream",
     "text": [
      "[[  1   4  10 155]\n",
      " [  2   3  10 151]\n",
      " [  3   4   8 160]\n",
      " [  3   3   8 160]\n",
      " [  3   2   6 156]\n",
      " [  4   3   6 150]\n",
      " [  3   2   8 164]\n",
      " [  4   2   8 151]\n",
      " [  5   1  10 158]\n",
      " [  5   1  10 152]]\n"
     ]
    }
   ],
   "source": [
    "'''\n",
    "Now, we’ll be able to use the VarianceThreshold class from scikit-learn to help remove the \n",
    "low-variance features from X_num. By default, it drops all features with zero variance, \n",
    "but we can adjust the threshold during class instantiation using the threshold parameter \n",
    "if we want to allow some variation. \n",
    "The .fit_transform() method returns the filtered features as a numpy array:\n",
    "'''\n",
    "from sklearn.feature_selection import VarianceThreshold\n",
    " \n",
    "selector = VarianceThreshold(threshold=0)  # 0 is default\n",
    " \n",
    "print(selector.fit_transform(X_num))\n"
   ]
  },
  {
   "cell_type": "code",
   "execution_count": 6,
   "id": "c374510c",
   "metadata": {},
   "outputs": [
    {
     "name": "stdout",
     "output_type": "stream",
     "text": [
      "[0 1 2 3]\n"
     ]
    }
   ],
   "source": [
    "'''\n",
    "As we can see, grade_level was removed because there is no variation in its values — \n",
    "all students are 8th graders. Since this data is the same across the board, \n",
    "a student’s grade level will not be able to provide any useful predictive information about their exam score, \n",
    "so it makes sense to drop grade_level as a feature.\n",
    "\n",
    "Something to note is that loading datasets with scikit-learn generally works with numpy arrays internally, \n",
    "hence the output type of .fit_transform(). However, the methods can also accept other data types that \n",
    "can be converted to numpy arrays, such as Python lists or pandas DataFrames, like the X_num we used. \n",
    "From a human perspective, one downside of working with numpy arrays as compared to pandas DataFrame is that \n",
    "we lose information like column headings, making the data harder to visually inspect.\n",
    "\n",
    "Luckily, VarianceThreshold offers another method called .get_support() that can return the indices of the \n",
    "selected features, which we can use to manually subset our numeric features DataFrame:\n",
    "'''\n",
    "\n",
    "# Specify `indices=True` to get indices of selected features\n",
    "print(selector.get_support(indices=True))"
   ]
  },
  {
   "cell_type": "code",
   "execution_count": 7,
   "id": "d8a8d067",
   "metadata": {},
   "outputs": [
    {
     "name": "stdout",
     "output_type": "stream",
     "text": [
      "['hours_study', 'hours_TV', 'hours_sleep', 'height_cm']\n"
     ]
    }
   ],
   "source": [
    "# Use indices to get the corresponding column names of selected features\n",
    "num_cols = list(X_num.columns[selector.get_support(indices=True)])\n",
    " \n",
    "print(num_cols)"
   ]
  },
  {
   "cell_type": "code",
   "execution_count": 8,
   "id": "da4c5540",
   "metadata": {},
   "outputs": [
    {
     "name": "stdout",
     "output_type": "stream",
     "text": [
      "   hours_study  hours_TV  hours_sleep  height_cm\n",
      "0            1         4           10        155\n",
      "1            2         3           10        151\n",
      "2            3         4            8        160\n",
      "3            3         3            8        160\n",
      "4            3         2            6        156\n",
      "5            4         3            6        150\n",
      "6            3         2            8        164\n",
      "7            4         2            8        151\n",
      "8            5         1           10        158\n",
      "9            5         1           10        152\n"
     ]
    }
   ],
   "source": [
    "# Subset `X_num` to retain only selected features\n",
    "X_num = X_num[num_cols]\n",
    " \n",
    "print(X_num)"
   ]
  },
  {
   "cell_type": "code",
   "execution_count": 9,
   "id": "d291bed3",
   "metadata": {},
   "outputs": [
    {
     "name": "stdout",
     "output_type": "stream",
     "text": [
      "    edu_goal  hours_study  hours_TV  hours_sleep  height_cm\n",
      "0  bachelors            1         4           10        155\n",
      "1  bachelors            2         3           10        151\n",
      "2  bachelors            3         4            8        160\n",
      "3    masters            3         3            8        160\n",
      "4    masters            3         2            6        156\n",
      "5    masters            4         3            6        150\n",
      "6    masters            3         2            8        164\n",
      "7        phd            4         2            8        151\n",
      "8        phd            5         1           10        158\n",
      "9        phd            5         1           10        152\n"
     ]
    }
   ],
   "source": [
    "#Finally, to obtain our entire features DataFrame, including the categorical column edu_goal, we could do:\n",
    "\n",
    "X = X[['edu_goal'] + num_cols]\n",
    " \n",
    "print(X)"
   ]
  },
  {
   "cell_type": "code",
   "execution_count": 11,
   "id": "2a5a6045",
   "metadata": {},
   "outputs": [
    {
     "data": {
      "image/png": "[encoded data removed]",
      "text/plain": [
       "<Figure size 640x480 with 2 Axes>"
      ]
     },
     "metadata": {},
     "output_type": "display_data"
    }
   ],
   "source": [
    "'''\n",
    "Pearson’s correlation\n",
    "Another type of filter method involves finding the correlation between variables. \n",
    "In particular, the Pearson’s correlation coefficient is useful for measuring the linear relationship \n",
    "between two numeric, continuous variables — a coefficient close to 1 represents a positive correlation, \n",
    "-1 represents a negative correlation, and 0 represents no correlation. \n",
    "Like variance, Pearson’s correlation coefficient cannot be calculated for categorical variables. \n",
    "Although, there is a related point biserial correlation coefficient that can be computed when one \n",
    "variable is dichotomous, but we won’t focus on that here.\n",
    "\n",
    "There are 2 main ways of using correlation for feature selection — to detect correlation between features \n",
    "and to detect correlation between a feature and the target variable.\n",
    "\n",
    "Correlation between features\n",
    "When two features are highly correlated with one another, then keeping just one to be used in the model \n",
    "will be enough because otherwise they provide duplicate information. \n",
    "The second variable would only be redundant and serve to contribute unnecessary noise.\n",
    "\n",
    "To determine which variables are correlated with one another, we can use the .corr() method from \n",
    "pandas to find the correlation coefficient between each pair of numeric features in a DataFrame. \n",
    "By default, .corr() computes the Pearson’s correlation coefficient, \n",
    "but alternative methods can be specified using the method parameter. \n",
    "We can visualize the resulting correlation matrix using a heatmap:\n",
    "'''\n",
    "import matplotlib.pyplot as plt\n",
    "import seaborn as sns\n",
    " \n",
    "corr_matrix = X_num.corr(method='pearson')  # 'pearson' is default\n",
    " \n",
    "sns.heatmap(corr_matrix, annot=True, cmap='RdBu_r')\n",
    "plt.show()"
   ]
  },
  {
   "cell_type": "code",
   "execution_count": 12,
   "id": "d753d0ef",
   "metadata": {},
   "outputs": [
    {
     "name": "stdout",
     "output_type": "stream",
     "text": [
      "hours_TV hours_study -0.780763315142435\n"
     ]
    }
   ],
   "source": [
    "'''\n",
    "Let’s define high correlation as having a coefficient of greater than 0.7 or less than -0.7. \n",
    "We can loop through the correlation matrix to identify the highly correlated variables:\n",
    "'''\n",
    "# Loop over bottom diagonal of correlation matrix\n",
    "for i in range(len(corr_matrix.columns)):\n",
    "    for j in range(i):\n",
    " \n",
    "        # Print variables with high correlation\n",
    "        if abs(corr_matrix.iloc[i, j]) > 0.7:\n",
    "            print(corr_matrix.columns[i], corr_matrix.columns[j], corr_matrix.iloc[i, j])\n"
   ]
  },
  {
   "cell_type": "code",
   "execution_count": null,
   "id": "40d48542",
   "metadata": {},
   "outputs": [],
   "source": [
    "'''\n",
    "As seen, hours_TV appears to be highly negatively correlated with hours_study — a student who watches a lot of \n",
    "TV tends to spend fewer hours studying, and vice versa. Because they provide redundant information, \n",
    "we can choose to remove one of those variables. To decide which one, we can look at their correlation with \n",
    "the target variable, then remove the one that is less associated with the target. \n",
    "This is explored in the next section.\n",
    "'''"
   ]
  },
  {
   "cell_type": "code",
   "execution_count": 13,
   "id": "28754faf",
   "metadata": {},
   "outputs": [
    {
     "name": "stdout",
     "output_type": "stream",
     "text": [
      "   hours_study  hours_TV  hours_sleep  height_cm  exam_score\n",
      "0            1         4           10        155          71\n",
      "1            2         3           10        151          72\n",
      "2            3         4            8        160          78\n",
      "3            3         3            8        160          79\n",
      "4            3         2            6        156          85\n",
      "5            4         3            6        150          86\n",
      "6            3         2            8        164          92\n",
      "7            4         2            8        151          93\n",
      "8            5         1           10        158          99\n",
      "9            5         1           10        152         100\n"
     ]
    }
   ],
   "source": [
    "'''\n",
    "Correlation between feature and target\n",
    "As mentioned, the second way correlation can be used is to determine if there is a relationship between a \n",
    "feature and the target variable. In the case of Pearson’s correlation, \n",
    "this is especially useful if we intend to fit a linear model, which assumes a linear relationship \n",
    "between the target and predictor variables. If a feature is not very correlated with the target variable, \n",
    "such as having a coefficient of between -0.3 and 0.3, then it may not be very predictive and can potentially \n",
    "be filtered out.\n",
    "\n",
    "We can use the same .corr() method seen previously to obtain the correlation between the target variable \n",
    "and the rest of the features. First, we’ll need to create a new DataFrame containing the numeric features \n",
    "with the exam_score column:\n",
    "'''\n",
    "X_y = X_num.copy()\n",
    "X_y['exam_score'] = y\n",
    " \n",
    "print(X_y)\n"
   ]
  },
  {
   "cell_type": "code",
   "execution_count": 14,
   "id": "a8ca13eb",
   "metadata": {},
   "outputs": [
    {
     "data": {
      "image/png": "[encoded data removed]",
      "text/plain": [
       "<Figure size 640x480 with 2 Axes>"
      ]
     },
     "metadata": {},
     "output_type": "display_data"
    }
   ],
   "source": [
    "'''\n",
    "Then, we can generate the correlation matrix and isolate the column corresponding to the target variable \n",
    "to see how strongly each feature is correlated with it:\n",
    "'''\n",
    "corr_matrix = X_y.corr()\n",
    " \n",
    "# Isolate the column corresponding to `exam_score`\n",
    "corr_target = corr_matrix[['exam_score']].drop(labels=['exam_score'])\n",
    " \n",
    "sns.heatmap(corr_target, annot=True, fmt='.3', cmap='RdBu_r')\n",
    "plt.show()"
   ]
  },
  {
   "cell_type": "code",
   "execution_count": 15,
   "id": "0dd02678",
   "metadata": {},
   "outputs": [
    {
     "name": "stdout",
     "output_type": "stream",
     "text": [
      "    edu_goal  hours_study  hours_sleep  height_cm\n",
      "0  bachelors            1           10        155\n",
      "1  bachelors            2           10        151\n",
      "2  bachelors            3            8        160\n",
      "3    masters            3            8        160\n",
      "4    masters            3            6        156\n",
      "5    masters            4            6        150\n",
      "6    masters            3            8        164\n",
      "7        phd            4            8        151\n",
      "8        phd            5           10        158\n",
      "9        phd            5           10        152\n"
     ]
    }
   ],
   "source": [
    "'''\n",
    "As seen, hours_study is positively correlated with exam_score and hours_TV is negatively correlated with it. \n",
    "It makes sense that hours_study and hours_TV would be negatively correlated with each other as we saw earlier, \n",
    "and just one of those features would suffice for predicting exam_score. \n",
    "Since hours_study has a stronger correlation with the target variable, \n",
    "let’s remove hours_TV as the redundant feature:\n",
    "\n",
    "\n",
    "'''\n",
    "\n",
    "X = X.drop(columns=['hours_TV'])\n",
    " \n",
    "print(X)"
   ]
  },
  {
   "cell_type": "code",
   "execution_count": 16,
   "id": "c4222c9a",
   "metadata": {},
   "outputs": [
    {
     "name": "stdout",
     "output_type": "stream",
     "text": [
      "(array([3.61362007e+01, 3.44537037e+01, 0.00000000e+00, 1.70259066e-03]), array([3.19334945e-04, 3.74322763e-04, 1.00000000e+00, 9.68097878e-01]))\n"
     ]
    }
   ],
   "source": [
    "'''\n",
    "The other two features, hours_sleep and height_cm, both do not seem to be correlated with exam_score, suggesting they would not be very good predictors. We could potentially remove either or both of them as being uninformative. But before we do, it is a good idea to use other methods to double check that the features truly are not predictive. We will do that in the next section by using mutual information to see if there \n",
    "are any non-linear associations between the features and target variable.\n",
    "\n",
    "To conclude this section, we’ll briefly note an alternative approach for assessing the correlation between variables. \n",
    "Instead of generating the full correlation matrix, we could use the f_regression() function \n",
    "from scikit-learn to find the F-statistic for a model with each predictor on its own. \n",
    "The F-statistic will be larger (and p-value will be smaller) for predictors that are more highly \n",
    "correlated with the target variable, thus it will perform the same filtering:\n",
    "'''\n",
    "from sklearn.feature_selection import f_regression\n",
    " \n",
    "print(f_regression(X_num, y))"
   ]
  },
  {
   "cell_type": "code",
   "execution_count": null,
   "id": "598fda97",
   "metadata": {},
   "outputs": [],
   "source": [
    "'''\n",
    "The function returns the F-statistic in the first array and the p-value in the second. \n",
    "As seen, the result is consistent with what we had observed in the correlation matrix — the stronger the correlation \n",
    "(either positive or negative) between the feature and target, the higher the corresponding F-statistic and \n",
    "lower the p-value. For example, amongst all the features, hours_study has the largest correlation coefficient (0.905), highest F-statistic (3.61e+01), \n",
    "and lowest p-value (3.19e-04).\n",
    "'''"
   ]
  },
  {
   "cell_type": "code",
   "execution_count": null,
   "id": "543ea336",
   "metadata": {},
   "outputs": [],
   "source": [
    "'''\n",
    "Mutual information\n",
    "The final filter method we’ll look at is using mutual information to rank and select the top features. \n",
    "Mutual information is a measure of dependence between two variables and can be used to gauge how much a \n",
    "feature contributes to the prediction of the target variable. It is similar to Pearson’s correlation, \n",
    "but is not limited to detecting linear associations. This makes mutual information useful for more \n",
    "flexible models where a linear functional form is not assumed. Another advantage of mutual information \n",
    "is that it also works on discrete features or target, unlike correlation. \n",
    "Although, categorical variables need to be numerically encoded first.\n",
    "'''\n",
    "\n"
   ]
  },
  {
   "cell_type": "code",
   "execution_count": 17,
   "id": "be2abb9a",
   "metadata": {},
   "outputs": [
    {
     "name": "stdout",
     "output_type": "stream",
     "text": [
      "   edu_goal  hours_study  hours_sleep  height_cm\n",
      "0         0            1           10        155\n",
      "1         0            2           10        151\n",
      "2         0            3            8        160\n",
      "3         1            3            8        160\n",
      "4         1            3            6        156\n",
      "5         1            4            6        150\n",
      "6         1            3            8        164\n",
      "7         2            4            8        151\n",
      "8         2            5           10        158\n",
      "9         2            5           10        152\n"
     ]
    }
   ],
   "source": [
    "'''\n",
    "In our example, we can encode the edu_goal column using the LabelEncoder class \n",
    "from scikit-learn‘s preprocessing module:\n",
    "'''\n",
    "from sklearn.preprocessing import LabelEncoder\n",
    " \n",
    "le = LabelEncoder()\n",
    " \n",
    "# Create copy of `X` for encoded version\n",
    "X_enc = X.copy()\n",
    "X_enc['edu_goal'] = le.fit_transform(X['edu_goal'])\n",
    " \n",
    "print(X_enc)"
   ]
  },
  {
   "cell_type": "code",
   "execution_count": 18,
   "id": "e9d4a193",
   "metadata": {},
   "outputs": [
    {
     "name": "stdout",
     "output_type": "stream",
     "text": [
      "[0.50396825 0.40896825 0.06896825 0.        ]\n"
     ]
    }
   ],
   "source": [
    "'''\n",
    "Now, we can compute the mutual information between each feature and exam_score using mutual_info_regression(). \n",
    "This function is used because our target variable is continuous, but if we had a discrete target variable, \n",
    "we would use mutual_info_classif(). \n",
    "We specify the random_state in the function in order obtain reproducible results:\n",
    "'''\n",
    "from sklearn.feature_selection import mutual_info_regression\n",
    " \n",
    "print(mutual_info_regression(X_enc, y, random_state=68))\n"
   ]
  },
  {
   "cell_type": "markdown",
   "id": "a93d3a90",
   "metadata": {},
   "source": [
    "'''\n",
    "The estimated mutual information between each feature and the target is returned in a numpy array, where each value is a non-negative number — the higher the value, the more predictive power is assumed.\n",
    "\n",
    "However, we are missing one more important piece here. Earlier, even though we encoded edu_goal to be numeric,\n",
    "that does not mean it should be treated as a continuous variable. In other words, the values of edu_goal are \n",
    "still discrete and should be interpreted as such. If we plot edu_goal against exam_score on a graph, \n",
    "we can clearly see the steps between the values of edu_goal:\n",
    "\n",
    "\n",
    "'''"
   ]
  },
  {
   "cell_type": "code",
   "execution_count": 20,
   "id": "871bffa0",
   "metadata": {},
   "outputs": [
    {
     "name": "stdout",
     "output_type": "stream",
     "text": [
      "[0.75563492 0.38896825 0.18563492 0.        ]\n"
     ]
    }
   ],
   "source": [
    "'''\n",
    "In order to properly calculate the mutual information, we need to tell mutual_info_regression() \n",
    "which features are discrete by providing their index positions \n",
    "using the discrete_features parameter:\n",
    "'''\n",
    "print(mutual_info_regression(X_enc, y, discrete_features=[0], random_state=68))\n"
   ]
  },
  {
   "cell_type": "code",
   "execution_count": null,
   "id": "a52f13b3",
   "metadata": {},
   "outputs": [],
   "source": [
    "'''\n",
    "Compared to the earlier results, we now get greater mutual information between edu_goal and the target variable once it is correctly interpreted as a discrete feature.\n",
    "\n",
    "From the results, we can also see that there is 0 mutual information between height_cm and exam_score, suggesting that these variables are largely independent. This is consistent with what we saw earlier with Pearson’s correlation, \n",
    "where the correlation coefficient between them is very close to 0 as well.\n",
    "\n",
    "What is interesting to note is that the mutual information between hours_sleep and exam_score is a positive value,\n",
    "even though their Pearson’s correlation coefficient is 0. The answer becomes more clear when we plot the \n",
    "relationship between hours_sleep and exam_score:\n",
    "\n",
    "As seen, there do seem to be some association between the variables, only it is not a linear one, which is why it was detected using mutual information\n",
    "but not Pearson’s correlation coefficient.\n",
    "'''"
   ]
  },
  {
   "cell_type": "code",
   "execution_count": 21,
   "id": "3d27f8d3",
   "metadata": {},
   "outputs": [
    {
     "name": "stdout",
     "output_type": "stream",
     "text": [
      "[[ 0  1 10]\n",
      " [ 0  2 10]\n",
      " [ 0  3  8]\n",
      " [ 1  3  8]\n",
      " [ 1  3  6]\n",
      " [ 1  4  6]\n",
      " [ 1  3  8]\n",
      " [ 2  4  8]\n",
      " [ 2  5 10]\n",
      " [ 2  5 10]]\n"
     ]
    }
   ],
   "source": [
    "'''\n",
    "Finally, let’s look at using the SelectKBest class from scikit-learn to help pick out the top k \n",
    "features with the highest ranked scores. In our case, we are looking to select features that \n",
    "share the most mutual information with the target variable. When we instantiate SelectKBest, we’ll specify which scoring function to use and how many top features to select. Here, our scoring function is mutual_info_regression(), but because we want to specify additional arguments besides the X and y inputs, we’ll need the help of the partial() function from Python’s built-in functools module. Then, the .fit_transform() method will return the filtered features \n",
    "as a numpy array:\n",
    "'''\n",
    "\n",
    "from sklearn.feature_selection import SelectKBest\n",
    "from functools import partial\n",
    " \n",
    "score_func = partial(mutual_info_regression, discrete_features=[0], random_state=68)\n",
    " \n",
    "# Select top 3 features with the most mutual information\n",
    "selection = SelectKBest(score_func=score_func, k=3)\n",
    " \n",
    "print(selection.fit_transform(X_enc, y))"
   ]
  },
  {
   "cell_type": "code",
   "execution_count": 22,
   "id": "229787a8",
   "metadata": {},
   "outputs": [
    {
     "name": "stdout",
     "output_type": "stream",
     "text": [
      "    edu_goal  hours_study  hours_sleep\n",
      "0  bachelors            1           10\n",
      "1  bachelors            2           10\n",
      "2  bachelors            3            8\n",
      "3    masters            3            8\n",
      "4    masters            3            6\n",
      "5    masters            4            6\n",
      "6    masters            3            8\n",
      "7        phd            4            8\n",
      "8        phd            5           10\n",
      "9        phd            5           10\n"
     ]
    }
   ],
   "source": [
    "'''\n",
    "As seen above, we selected the top 3 features based on mutual information, thus dropping height_cm. Like VarianceThreshold, SelectKBest also offers the .get_support() method that returns the indices of the selected features, \n",
    "so we could subset our original features DataFrame:\n",
    "'''\n",
    "\n",
    "X = X[X.columns[selection.get_support(indices=True)]]\n",
    " \n",
    "print(X)\n"
   ]
  },
  {
   "cell_type": "code",
   "execution_count": null,
   "id": "0a61d97c",
   "metadata": {},
   "outputs": [],
   "source": [
    "'''\n",
    "Conclusion\n",
    "In our example dataset, we started out with 6 features for predicting the exam_score of students. \n",
    "Using various filter methods, we narrowed down that set to just the top most relevant and informative ones. \n",
    "First, we eliminated grade_level because it has zero variance and would contribute nothing to the model. \n",
    "Then, we dropped hours_TV since it is highly correlated with hours_study and is therefore redundant. \n",
    "Lastly, we filtered out height_cm based on mutual information, which suggested that it does not have any meaningful \n",
    "association with the target variable, \n",
    "linear or otherwise, and would not have been very predictive.\n",
    "'''"
   ]
  }
 ],
 "metadata": {
  "kernelspec": {
   "display_name": "feature",
   "language": "python",
   "name": "feature"
  },
  "language_info": {
   "codemirror_mode": {
    "name": "ipython",
    "version": 3
   },
   "file_extension": ".py",
   "mimetype": "text/x-python",
   "name": "python",
   "nbconvert_exporter": "python",
   "pygments_lexer": "ipython3",
   "version": "3.10.6"
  }
 },
 "nbformat": 4,
 "nbformat_minor": 5
}
