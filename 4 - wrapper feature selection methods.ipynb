{
 "cells": [
  {
   "cell_type": "code",
   "execution_count": null,
   "id": "7128b52d",
   "metadata": {},
   "outputs": [],
   "source": [
    "'''\n",
    "Introduction to Wrapper Methods\n",
    "Machine learning problems often involve datasets with many features. \n",
    "Some of those features might be very important for a specific machine learning model.\n",
    "Other features might be irrelevant. Given a feature set and a model, we would like to be able to \n",
    "distinguish between important and unimportant features (or even important combinations of features). \n",
    "Wrapper methods do exactly that.\n",
    "\n",
    "A wrapper method for feature selection is an algorithm that selects features by evaluating the performance of a \n",
    "machine learning model on different subsets of features. These algorithms add or remove features one at a \n",
    "time based on how useful those features are to the model.\n",
    "\n",
    "Wrapper methods have some advantages over filter methods. The main advantage is that wrapper methods \n",
    "evaluate features based on their performance with a specific model. Filter methods, on the other hand, \n",
    "can’t tell how important a feature is to a model.\n",
    "\n",
    "Another upside of wrapper methods is that they can take into account relationships between features. \n",
    "Sometimes certain features aren’t very useful on their own but instead perform well only when combined \n",
    "with other features. Since wrapper methods test subsets of features, they can account for those situations.\n",
    "\n",
    "This lesson will explain five different wrapper methods:\n",
    "\n",
    "Sequential forward selection\n",
    "Sequential backward selection\n",
    "Sequential forward floating selection\n",
    "Sequential backward floating selection\n",
    "Recursive feature elimination\n",
    "You’ll learn how to implement these algorithms in Python and evaluate the results.\n",
    "'''"
   ]
  },
  {
   "cell_type": "code",
   "execution_count": 1,
   "id": "021bf311",
   "metadata": {},
   "outputs": [
    {
     "name": "stdout",
     "output_type": "stream",
     "text": [
      "   Age        BMI  Glucose  Insulin      HOMA   Leptin  Adiponectin  Resistin  \\\n",
      "0   48  23.500000       70    2.707  0.467409   8.8071     9.702400   7.99585   \n",
      "1   83  20.690495       92    3.115  0.706897   8.8438     5.429285   4.06405   \n",
      "2   82  23.124670       91    4.498  1.009651  17.9393    22.432040   9.27715   \n",
      "3   68  21.367521       77    3.226  0.612725   9.8827     7.169560  12.76600   \n",
      "4   86  21.111111       92    3.549  0.805386   6.6994     4.819240  10.57635   \n",
      "\n",
      "     MCP.1  Classification  \n",
      "0  417.114               1  \n",
      "1  468.786               1  \n",
      "2  554.697               1  \n",
      "3  928.220               1  \n",
      "4  773.920               1  \n"
     ]
    }
   ],
   "source": [
    "'''\n",
    "The data in the workspace was taken from the UCI Machine Learning Repository. \n",
    "The outcome variable, Classification, is a 1 if a patient has breast cancer and a 0 if not. \n",
    "The features are Age, BMI (body mass index), Glucose, Insulin, HOMA (homeostatic model assessment, a measure of insulin resistance),\n",
    "as well as four different protein levels: Leptin, Adiponectin, Resistin, and MCP.1.\n",
    "\n",
    "\n",
    "'''\n",
    "import pandas as pd\n",
    "#import codecademylib3\n",
    "\n",
    "# Load the data\n",
    "health = pd.read_csv(\"dataR2.csv\")\n",
    "\n",
    "print(health.head())\n"
   ]
  },
  {
   "cell_type": "code",
   "execution_count": null,
   "id": "48aff87c",
   "metadata": {},
   "outputs": [],
   "source": [
    "'''\n",
    "Setting Up a Logistic Regression Model\n",
    "Before we can use a wrapper method, we need to specify a machine learning model. We’ll train a logistic regression model on the health data and see how well it performs.\n",
    "\n",
    "We’ll prepare the data by splitting it into a pandas DataFrame X and a pandas Series y. \n",
    "X will contain the observations of the independent variables,\n",
    "and y will contain the observations of the dependent variable.\n",
    "'''"
   ]
  },
  {
   "cell_type": "code",
   "execution_count": 2,
   "id": "81337d14",
   "metadata": {},
   "outputs": [
    {
     "name": "stdout",
     "output_type": "stream",
     "text": [
      "0.8017241379310345\n"
     ]
    }
   ],
   "source": [
    "import pandas as pd\n",
    "from sklearn.linear_model import LogisticRegression\n",
    "\n",
    "# Load the data\n",
    "health = pd.read_csv(\"dataR2.csv\")\n",
    "# Split independent and dependent variables\n",
    "X = health.iloc[:,:-1]\n",
    "y = health.iloc[:,-1]\n",
    "\n",
    "# Logistic regression model\n",
    "lr = LogisticRegression(max_iter=1000)\n",
    "\n",
    "# Fit the model\n",
    "lr.fit(X,y)\n",
    "\n",
    "# Print the accuracy of the model\n",
    "print(lr.score(X,y))"
   ]
  },
  {
   "cell_type": "code",
   "execution_count": null,
   "id": "55246fbc",
   "metadata": {},
   "outputs": [],
   "source": [
    "'''\n",
    "Sequential Forward Selection\n",
    "Now that we have a specific machine learning model, we can use a wrapper method to choose a smaller feature subset.\n",
    "\n",
    "Sequential forward selection is a wrapper method that builds a feature set by starting with no features and \n",
    "then adding one feature at a time until a desired number of features is reached. In the first step, \n",
    "the algorithm will train and test a model using only one feature at a time. \n",
    "The algorithm keeps the feature that performs best.\n",
    "\n",
    "In each subsequent step, the algorithm will test the model on each possible new feature addition. \n",
    "Whichever feature improves model performance the most is then added to the feature subset.\n",
    "This process stops once we have the desired number of features.\n",
    "\n",
    "Let’s say we want to use three features, and we have five features to choose from: age, height, weight, \n",
    "blood_pressure, and resting_heart_rate. Sequential forward selection will train your machine learning model \n",
    "on five different feature subsets: one for each feature.\n",
    "\n",
    "If the model performs best on the subset {age}, the algorithm will then train and \n",
    "test the model on the following four subsets:\n",
    "\n",
    "{age, height}\n",
    "{age, weight}\n",
    "{age, blood_pressure}\n",
    "{age, resting_heart_rate}\n",
    "If the model performs best on {age, resting_heart_rate}, \n",
    "the algorithm will test the model on the following three subsets:\n",
    "\n",
    "{age, height, resting_heart_rate}\n",
    "{age, weight, resting_heart_rate}\n",
    "{age, blood_pressure, resting_heart_rate}\n",
    "If the model performs best on {age, weight, resting_heart_rate}, \n",
    "it will stop the algorithm and use that feature set.\n",
    "\n",
    "Sequential forward selection is a greedy algorithm: instead of checking every possible feature set by brute force, \n",
    "it adds whichever feature gives the best immediate performance gain.\n",
    "'''\n",
    "\n"
   ]
  },
  {
   "cell_type": "code",
   "execution_count": 5,
   "id": "cf4a6c3c",
   "metadata": {},
   "outputs": [],
   "source": [
    "set1 = {\"age\", \"height\", \"weight\", \"resting_heart_rate\"}\n",
    "set2 = {\"age\", \"weight\", \"blood_pressure\", \"resting_heart_rate\"}"
   ]
  },
  {
   "cell_type": "code",
   "execution_count": null,
   "id": "9afb8fb0",
   "metadata": {},
   "outputs": [],
   "source": [
    "'''\n",
    "Sequential Forward Selection with mlxtend\n",
    "Recall from a previous exercise that the logistic regression model was about 80.2% accurate at predicting \n",
    "if a patient had breast cancer. \n",
    "But there were NINE different features. Are all of those features necessary, \n",
    "or is it possible that the model could make accurate predictions with fewer features? \n",
    "That would make the model easier to understand, and it could simplify diagnosis.\n",
    "\n",
    "We will use the SFS class from Python’s mlxtend library to implement sequential forward selection and \n",
    "choose a subset of just THREE features for the logistic regression model that we used earlier.\n",
    "'''\n",
    "\n"
   ]
  },
  {
   "cell_type": "code",
   "execution_count": 3,
   "id": "e5bf2884",
   "metadata": {},
   "outputs": [
    {
     "data": {
      "text/html": [
       "<style>#sk-container-id-1 {color: black;background-color: white;}#sk-container-id-1 pre{padding: 0;}#sk-container-id-1 div.sk-toggleable {background-color: white;}#sk-container-id-1 label.sk-toggleable__label {cursor: pointer;display: block;width: 100%;margin-bottom: 0;padding: 0.3em;box-sizing: border-box;text-align: center;}#sk-container-id-1 label.sk-toggleable__label-arrow:before {content: \"▸\";float: left;margin-right: 0.25em;color: #696969;}#sk-container-id-1 label.sk-toggleable__label-arrow:hover:before {color: black;}#sk-container-id-1 div.sk-estimator:hover label.sk-toggleable__label-arrow:before {color: black;}#sk-container-id-1 div.sk-toggleable__content {max-height: 0;max-width: 0;overflow: hidden;text-align: left;background-color: #f0f8ff;}#sk-container-id-1 div.sk-toggleable__content pre {margin: 0.2em;color: black;border-radius: 0.25em;background-color: #f0f8ff;}#sk-container-id-1 input.sk-toggleable__control:checked~div.sk-toggleable__content {max-height: 200px;max-width: 100%;overflow: auto;}#sk-container-id-1 input.sk-toggleable__control:checked~label.sk-toggleable__label-arrow:before {content: \"▾\";}#sk-container-id-1 div.sk-estimator input.sk-toggleable__control:checked~label.sk-toggleable__label {background-color: #d4ebff;}#sk-container-id-1 div.sk-label input.sk-toggleable__control:checked~label.sk-toggleable__label {background-color: #d4ebff;}#sk-container-id-1 input.sk-hidden--visually {border: 0;clip: rect(1px 1px 1px 1px);clip: rect(1px, 1px, 1px, 1px);height: 1px;margin: -1px;overflow: hidden;padding: 0;position: absolute;width: 1px;}#sk-container-id-1 div.sk-estimator {font-family: monospace;background-color: #f0f8ff;border: 1px dotted black;border-radius: 0.25em;box-sizing: border-box;margin-bottom: 0.5em;}#sk-container-id-1 div.sk-estimator:hover {background-color: #d4ebff;}#sk-container-id-1 div.sk-parallel-item::after {content: \"\";width: 100%;border-bottom: 1px solid gray;flex-grow: 1;}#sk-container-id-1 div.sk-label:hover label.sk-toggleable__label {background-color: #d4ebff;}#sk-container-id-1 div.sk-serial::before {content: \"\";position: absolute;border-left: 1px solid gray;box-sizing: border-box;top: 0;bottom: 0;left: 50%;z-index: 0;}#sk-container-id-1 div.sk-serial {display: flex;flex-direction: column;align-items: center;background-color: white;padding-right: 0.2em;padding-left: 0.2em;position: relative;}#sk-container-id-1 div.sk-item {position: relative;z-index: 1;}#sk-container-id-1 div.sk-parallel {display: flex;align-items: stretch;justify-content: center;background-color: white;position: relative;}#sk-container-id-1 div.sk-item::before, #sk-container-id-1 div.sk-parallel-item::before {content: \"\";position: absolute;border-left: 1px solid gray;box-sizing: border-box;top: 0;bottom: 0;left: 50%;z-index: -1;}#sk-container-id-1 div.sk-parallel-item {display: flex;flex-direction: column;z-index: 1;position: relative;background-color: white;}#sk-container-id-1 div.sk-parallel-item:first-child::after {align-self: flex-end;width: 50%;}#sk-container-id-1 div.sk-parallel-item:last-child::after {align-self: flex-start;width: 50%;}#sk-container-id-1 div.sk-parallel-item:only-child::after {width: 0;}#sk-container-id-1 div.sk-dashed-wrapped {border: 1px dashed gray;margin: 0 0.4em 0.5em 0.4em;box-sizing: border-box;padding-bottom: 0.4em;background-color: white;}#sk-container-id-1 div.sk-label label {font-family: monospace;font-weight: bold;display: inline-block;line-height: 1.2em;}#sk-container-id-1 div.sk-label-container {text-align: center;}#sk-container-id-1 div.sk-container {/* jupyter's `normalize.less` sets `[hidden] { display: none; }` but bootstrap.min.css set `[hidden] { display: none !important; }` so we also need the `!important` here to be able to override the default hidden behavior on the sphinx rendered scikit-learn.org. See: https://github.com/scikit-learn/scikit-learn/issues/21755 */display: inline-block !important;position: relative;}#sk-container-id-1 div.sk-text-repr-fallback {display: none;}</style><div id=\"sk-container-id-1\" class=\"sk-top-container\"><div class=\"sk-text-repr-fallback\"><pre>SequentialFeatureSelector(cv=0, estimator=LogisticRegression(max_iter=1000),\n",
       "                          k_features=(3, 3), scoring=&#x27;accuracy&#x27;)</pre><b>In a Jupyter environment, please rerun this cell to show the HTML representation or trust the notebook. <br />On GitHub, the HTML representation is unable to render, please try loading this page with nbviewer.org.</b></div><div class=\"sk-container\" hidden><div class=\"sk-item sk-dashed-wrapped\"><div class=\"sk-label-container\"><div class=\"sk-label sk-toggleable\"><input class=\"sk-toggleable__control sk-hidden--visually\" id=\"sk-estimator-id-1\" type=\"checkbox\" ><label for=\"sk-estimator-id-1\" class=\"sk-toggleable__label sk-toggleable__label-arrow\">SequentialFeatureSelector</label><div class=\"sk-toggleable__content\"><pre>SequentialFeatureSelector(cv=0, estimator=LogisticRegression(max_iter=1000),\n",
       "                          k_features=(3, 3), scoring=&#x27;accuracy&#x27;)</pre></div></div></div><div class=\"sk-parallel\"><div class=\"sk-parallel-item\"><div class=\"sk-item\"><div class=\"sk-label-container\"><div class=\"sk-label sk-toggleable\"><input class=\"sk-toggleable__control sk-hidden--visually\" id=\"sk-estimator-id-2\" type=\"checkbox\" ><label for=\"sk-estimator-id-2\" class=\"sk-toggleable__label sk-toggleable__label-arrow\">estimator: LogisticRegression</label><div class=\"sk-toggleable__content\"><pre>LogisticRegression(max_iter=1000)</pre></div></div></div><div class=\"sk-serial\"><div class=\"sk-item\"><div class=\"sk-estimator sk-toggleable\"><input class=\"sk-toggleable__control sk-hidden--visually\" id=\"sk-estimator-id-3\" type=\"checkbox\" ><label for=\"sk-estimator-id-3\" class=\"sk-toggleable__label sk-toggleable__label-arrow\">LogisticRegression</label><div class=\"sk-toggleable__content\"><pre>LogisticRegression(max_iter=1000)</pre></div></div></div></div></div></div></div></div></div></div>"
      ],
      "text/plain": [
       "SequentialFeatureSelector(cv=0, estimator=LogisticRegression(max_iter=1000),\n",
       "                          k_features=(3, 3), scoring='accuracy')"
      ]
     },
     "execution_count": 3,
     "metadata": {},
     "output_type": "execute_result"
    }
   ],
   "source": [
    "import pandas as pd\n",
    "from sklearn.linear_model import LogisticRegression\n",
    "from mlxtend.feature_selection import SequentialFeatureSelector as SFS\n",
    "\n",
    "# Load the data\n",
    "health = pd.read_csv(\"dataR2.csv\")\n",
    "X = health.iloc[:,:-1]\n",
    "y = health.iloc[:,-1]\n",
    "\n",
    "# Logistic regression model\n",
    "lr = LogisticRegression(max_iter=1000)\n",
    "\n",
    "# Sequential forward selection\n",
    "sfs = SFS(lr,\n",
    "          k_features=3,\n",
    "          forward=True,\n",
    "          floating=False,\n",
    "          scoring='accuracy',\n",
    "          cv=0)\n",
    "\n",
    "# Fit the sequential forward selection model\n",
    "sfs.fit(X, y)"
   ]
  },
  {
   "cell_type": "code",
   "execution_count": null,
   "id": "cc27fa5a",
   "metadata": {},
   "outputs": [],
   "source": [
    "'''\n",
    "Evaluating the Result of Sequential Forward Selection\n",
    "The sfs object that you fit in the previous exercise contains information about the sequential forward selection \n",
    "that was applied to your feature set. The .subsets_ attribute allows you to see much of that information, \n",
    "including which feature was chosen at each step and the model’s \n",
    "accuracy after each feature addition.\n",
    "'''"
   ]
  },
  {
   "cell_type": "code",
   "execution_count": 10,
   "id": "9dfa364a",
   "metadata": {},
   "outputs": [
    {
     "name": "stdout",
     "output_type": "stream",
     "text": [
      "('Age', 'Glucose', 'Insulin')\n",
      "0.7672413793103449\n"
     ]
    },
    {
     "name": "stderr",
     "output_type": "stream",
     "text": [
      "/Users/robertfokming/opt/anaconda3/envs/feature/lib/python3.10/site-packages/numpy/core/_methods.py:265: RuntimeWarning: Degrees of freedom <= 0 for slice\n",
      "  ret = _var(a, axis=axis, dtype=dtype, out=out, ddof=ddof,\n",
      "/Users/robertfokming/opt/anaconda3/envs/feature/lib/python3.10/site-packages/numpy/core/_methods.py:257: RuntimeWarning: invalid value encountered in double_scalars\n",
      "  ret = ret.dtype.type(ret / rcount)\n"
     ]
    },
    {
     "data": {
      "image/png": "[encoded data removed]",
      "text/plain": [
       "<Figure size 640x480 with 1 Axes>"
      ]
     },
     "metadata": {},
     "output_type": "display_data"
    }
   ],
   "source": [
    "import pandas as pd\n",
    "#import codecademylib3\n",
    "from sklearn.linear_model import LogisticRegression\n",
    "from mlxtend.feature_selection import SequentialFeatureSelector as SFS\n",
    "from mlxtend.plotting import plot_sequential_feature_selection as plot_sfs\n",
    "import matplotlib.pyplot as plt\n",
    "\n",
    "# Load the data\n",
    "health = pd.read_csv(\"dataR2.csv\")\n",
    "X = health.iloc[:,:-1]\n",
    "y = health.iloc[:,-1]\n",
    "\n",
    "# Logistic regression model\n",
    "lr = LogisticRegression(max_iter=1000)\n",
    "\n",
    "# Sequential forward selection\n",
    "sfs = SFS(lr,\n",
    "          k_features=3,\n",
    "          forward=True,\n",
    "          floating=False,\n",
    "          scoring='accuracy',\n",
    "          cv=0)\n",
    "sfs.fit(X, y)\n",
    "\n",
    "# Print the chosen feature names\n",
    "print(sfs.subsets_[3]['feature_names'])\n",
    "\n",
    "# Print the accuracy of the model after sequential forward selection\n",
    "print(sfs.subsets_[3]['avg_score'])\n",
    "\n",
    "# Plot the model accuracy\n",
    "plot_sfs(sfs.get_metric_dict())\n",
    "plt.show()"
   ]
  },
  {
   "cell_type": "code",
   "execution_count": null,
   "id": "c9e3aa66",
   "metadata": {},
   "outputs": [],
   "source": [
    "'''\n",
    "Sequential Backward Selection with mlxtend\n",
    "Sequential backward selection is another wrapper method for feature selection. \n",
    "It is very similar to sequential forward selection, but there is one key difference.\n",
    "Instead of starting with no features and adding one feature at a time, sequential backward selection \n",
    "starts with all of the available features and removes one feature at a time.\n",
    "\n",
    "Let’s again say we want to use three of the following five features: age, height, weight, blood_pressure, \n",
    "and resting_heart_rate. Sequential backward selection will start by training whatever machine learning model \n",
    "you are using on five different feature subsets, one for each possible feature removal:\n",
    "\n",
    "{height, weight, blood_pressure, resting_heart_rate}\n",
    "{age, weight, blood_pressure, resting_heart_rate}\n",
    "{age, height, blood_pressure, resting_heart_rate}\n",
    "{age, height, weight, resting_heart_rate}\n",
    "{age, height, weight, blood_pressure}\n",
    "Let’s say that out of the five subsets, the model performed best on the subset without blood_pressure. \n",
    "Then the algorithm will proceed with the feature set {age, height, weight, resting_heart_rate}. \n",
    "It then tries removing each of age, height, weight, and resting_heart_rate.\n",
    "\n",
    "Let’s say that of those four subsets, the model performed best without weight. \n",
    "Then it will arrive at the subset {age, height, resting_heart_rate}. \n",
    "The algorithm will stop there since it arrived at the desired number of features.\n",
    "\n",
    "To implement sequential backward selection in mlxtend you can use the same SFS class you used for \n",
    "sequential forward selection. The only difference is that you have to set the parameter forward to False.\n",
    "'''"
   ]
  },
  {
   "cell_type": "code",
   "execution_count": 11,
   "id": "48f5c844",
   "metadata": {},
   "outputs": [
    {
     "data": {
      "text/html": [
       "<style>#sk-container-id-2 {color: black;background-color: white;}#sk-container-id-2 pre{padding: 0;}#sk-container-id-2 div.sk-toggleable {background-color: white;}#sk-container-id-2 label.sk-toggleable__label {cursor: pointer;display: block;width: 100%;margin-bottom: 0;padding: 0.3em;box-sizing: border-box;text-align: center;}#sk-container-id-2 label.sk-toggleable__label-arrow:before {content: \"▸\";float: left;margin-right: 0.25em;color: #696969;}#sk-container-id-2 label.sk-toggleable__label-arrow:hover:before {color: black;}#sk-container-id-2 div.sk-estimator:hover label.sk-toggleable__label-arrow:before {color: black;}#sk-container-id-2 div.sk-toggleable__content {max-height: 0;max-width: 0;overflow: hidden;text-align: left;background-color: #f0f8ff;}#sk-container-id-2 div.sk-toggleable__content pre {margin: 0.2em;color: black;border-radius: 0.25em;background-color: #f0f8ff;}#sk-container-id-2 input.sk-toggleable__control:checked~div.sk-toggleable__content {max-height: 200px;max-width: 100%;overflow: auto;}#sk-container-id-2 input.sk-toggleable__control:checked~label.sk-toggleable__label-arrow:before {content: \"▾\";}#sk-container-id-2 div.sk-estimator input.sk-toggleable__control:checked~label.sk-toggleable__label {background-color: #d4ebff;}#sk-container-id-2 div.sk-label input.sk-toggleable__control:checked~label.sk-toggleable__label {background-color: #d4ebff;}#sk-container-id-2 input.sk-hidden--visually {border: 0;clip: rect(1px 1px 1px 1px);clip: rect(1px, 1px, 1px, 1px);height: 1px;margin: -1px;overflow: hidden;padding: 0;position: absolute;width: 1px;}#sk-container-id-2 div.sk-estimator {font-family: monospace;background-color: #f0f8ff;border: 1px dotted black;border-radius: 0.25em;box-sizing: border-box;margin-bottom: 0.5em;}#sk-container-id-2 div.sk-estimator:hover {background-color: #d4ebff;}#sk-container-id-2 div.sk-parallel-item::after {content: \"\";width: 100%;border-bottom: 1px solid gray;flex-grow: 1;}#sk-container-id-2 div.sk-label:hover label.sk-toggleable__label {background-color: #d4ebff;}#sk-container-id-2 div.sk-serial::before {content: \"\";position: absolute;border-left: 1px solid gray;box-sizing: border-box;top: 0;bottom: 0;left: 50%;z-index: 0;}#sk-container-id-2 div.sk-serial {display: flex;flex-direction: column;align-items: center;background-color: white;padding-right: 0.2em;padding-left: 0.2em;position: relative;}#sk-container-id-2 div.sk-item {position: relative;z-index: 1;}#sk-container-id-2 div.sk-parallel {display: flex;align-items: stretch;justify-content: center;background-color: white;position: relative;}#sk-container-id-2 div.sk-item::before, #sk-container-id-2 div.sk-parallel-item::before {content: \"\";position: absolute;border-left: 1px solid gray;box-sizing: border-box;top: 0;bottom: 0;left: 50%;z-index: -1;}#sk-container-id-2 div.sk-parallel-item {display: flex;flex-direction: column;z-index: 1;position: relative;background-color: white;}#sk-container-id-2 div.sk-parallel-item:first-child::after {align-self: flex-end;width: 50%;}#sk-container-id-2 div.sk-parallel-item:last-child::after {align-self: flex-start;width: 50%;}#sk-container-id-2 div.sk-parallel-item:only-child::after {width: 0;}#sk-container-id-2 div.sk-dashed-wrapped {border: 1px dashed gray;margin: 0 0.4em 0.5em 0.4em;box-sizing: border-box;padding-bottom: 0.4em;background-color: white;}#sk-container-id-2 div.sk-label label {font-family: monospace;font-weight: bold;display: inline-block;line-height: 1.2em;}#sk-container-id-2 div.sk-label-container {text-align: center;}#sk-container-id-2 div.sk-container {/* jupyter's `normalize.less` sets `[hidden] { display: none; }` but bootstrap.min.css set `[hidden] { display: none !important; }` so we also need the `!important` here to be able to override the default hidden behavior on the sphinx rendered scikit-learn.org. See: https://github.com/scikit-learn/scikit-learn/issues/21755 */display: inline-block !important;position: relative;}#sk-container-id-2 div.sk-text-repr-fallback {display: none;}</style><div id=\"sk-container-id-2\" class=\"sk-top-container\"><div class=\"sk-text-repr-fallback\"><pre>SequentialFeatureSelector(cv=0, estimator=LogisticRegression(max_iter=1000),\n",
       "                          forward=False, k_features=(3, 3), scoring=&#x27;accuracy&#x27;)</pre><b>In a Jupyter environment, please rerun this cell to show the HTML representation or trust the notebook. <br />On GitHub, the HTML representation is unable to render, please try loading this page with nbviewer.org.</b></div><div class=\"sk-container\" hidden><div class=\"sk-item sk-dashed-wrapped\"><div class=\"sk-label-container\"><div class=\"sk-label sk-toggleable\"><input class=\"sk-toggleable__control sk-hidden--visually\" id=\"sk-estimator-id-4\" type=\"checkbox\" ><label for=\"sk-estimator-id-4\" class=\"sk-toggleable__label sk-toggleable__label-arrow\">SequentialFeatureSelector</label><div class=\"sk-toggleable__content\"><pre>SequentialFeatureSelector(cv=0, estimator=LogisticRegression(max_iter=1000),\n",
       "                          forward=False, k_features=(3, 3), scoring=&#x27;accuracy&#x27;)</pre></div></div></div><div class=\"sk-parallel\"><div class=\"sk-parallel-item\"><div class=\"sk-item\"><div class=\"sk-label-container\"><div class=\"sk-label sk-toggleable\"><input class=\"sk-toggleable__control sk-hidden--visually\" id=\"sk-estimator-id-5\" type=\"checkbox\" ><label for=\"sk-estimator-id-5\" class=\"sk-toggleable__label sk-toggleable__label-arrow\">estimator: LogisticRegression</label><div class=\"sk-toggleable__content\"><pre>LogisticRegression(max_iter=1000)</pre></div></div></div><div class=\"sk-serial\"><div class=\"sk-item\"><div class=\"sk-estimator sk-toggleable\"><input class=\"sk-toggleable__control sk-hidden--visually\" id=\"sk-estimator-id-6\" type=\"checkbox\" ><label for=\"sk-estimator-id-6\" class=\"sk-toggleable__label sk-toggleable__label-arrow\">LogisticRegression</label><div class=\"sk-toggleable__content\"><pre>LogisticRegression(max_iter=1000)</pre></div></div></div></div></div></div></div></div></div></div>"
      ],
      "text/plain": [
       "SequentialFeatureSelector(cv=0, estimator=LogisticRegression(max_iter=1000),\n",
       "                          forward=False, k_features=(3, 3), scoring='accuracy')"
      ]
     },
     "execution_count": 11,
     "metadata": {},
     "output_type": "execute_result"
    }
   ],
   "source": [
    "import pandas as pd\n",
    "from sklearn.linear_model import LogisticRegression\n",
    "from mlxtend.feature_selection import SequentialFeatureSelector as SFS\n",
    "\n",
    "# Load the data\n",
    "health = pd.read_csv(\"dataR2.csv\")\n",
    "X = health.iloc[:,:-1]\n",
    "y = health.iloc[:,-1]\n",
    "\n",
    "# Logistic regression model\n",
    "lr = LogisticRegression(max_iter=1000)\n",
    "\n",
    "# Sequential backward selection\n",
    "sbs = SFS(lr,\n",
    "          k_features=3,\n",
    "          forward=False,\n",
    "          floating=False,\n",
    "          scoring='accuracy',\n",
    "          cv=0)\n",
    "\n",
    "# Fit the sequential backward selection model\n",
    "sbs.fit(X, y)"
   ]
  },
  {
   "cell_type": "code",
   "execution_count": 15,
   "id": "b4b4db91",
   "metadata": {},
   "outputs": [
    {
     "name": "stdout",
     "output_type": "stream",
     "text": [
      "('Age', 'BMI', 'Glucose', 'Insulin', 'Leptin', 'Resistin')\n",
      "0.8017241379310345\n"
     ]
    },
    {
     "name": "stderr",
     "output_type": "stream",
     "text": [
      "/Users/robertfokming/opt/anaconda3/envs/feature/lib/python3.10/site-packages/numpy/core/_methods.py:265: RuntimeWarning: Degrees of freedom <= 0 for slice\n",
      "  ret = _var(a, axis=axis, dtype=dtype, out=out, ddof=ddof,\n",
      "/Users/robertfokming/opt/anaconda3/envs/feature/lib/python3.10/site-packages/numpy/core/_methods.py:257: RuntimeWarning: invalid value encountered in double_scalars\n",
      "  ret = ret.dtype.type(ret / rcount)\n"
     ]
    },
    {
     "data": {
      "image/png": "[encoded data removed]",
      "text/plain": [
       "<Figure size 640x480 with 1 Axes>"
      ]
     },
     "metadata": {},
     "output_type": "display_data"
    }
   ],
   "source": [
    "import pandas as pd\n",
    "#import codecademylib3\n",
    "from sklearn.linear_model import LogisticRegression\n",
    "from mlxtend.feature_selection import SequentialFeatureSelector as SFS\n",
    "from mlxtend.plotting import plot_sequential_feature_selection as plot_sfs\n",
    "import matplotlib.pyplot as plt\n",
    "\n",
    "# Load the data\n",
    "health = pd.read_csv(\"dataR2.csv\")\n",
    "X = health.iloc[:,:-1]\n",
    "y = health.iloc[:,-1]\n",
    "\n",
    "# Logistic regression model\n",
    "lr = LogisticRegression(max_iter=1000)\n",
    "\n",
    "# Sequential backward selection\n",
    "sbs = SFS(lr,\n",
    "          k_features=3,\n",
    "          forward=False,\n",
    "          floating=False,\n",
    "          scoring='accuracy',\n",
    "          cv=0)\n",
    "sbs.fit(X, y)\n",
    "\n",
    "# Evaluate the result of sequential backward selection\n",
    "print(sbs.subsets_[6]['feature_names'])\n",
    "print(sbs.subsets_[6]['avg_score'])\n",
    "\n",
    "# Plot the model accuracy\n",
    "plot_sfs(sbs.get_metric_dict())\n",
    "plt.show()\n"
   ]
  },
  {
   "cell_type": "code",
   "execution_count": 14,
   "id": "c3d94ee8",
   "metadata": {},
   "outputs": [
    {
     "name": "stdout",
     "output_type": "stream",
     "text": [
      "{9: {'feature_idx': (0, 1, 2, 3, 4, 5, 6, 7, 8), 'cv_scores': array([0.80172414]), 'avg_score': 0.8017241379310345, 'feature_names': ('Age', 'BMI', 'Glucose', 'Insulin', 'HOMA', 'Leptin', 'Adiponectin', 'Resistin', 'MCP.1')}, 8: {'feature_idx': (0, 1, 2, 3, 4, 5, 6, 7), 'cv_scores': array([0.80172414]), 'avg_score': 0.8017241379310345, 'feature_names': ('Age', 'BMI', 'Glucose', 'Insulin', 'HOMA', 'Leptin', 'Adiponectin', 'Resistin')}, 7: {'feature_idx': (0, 1, 2, 3, 4, 5, 7), 'cv_scores': array([0.80172414]), 'avg_score': 0.8017241379310345, 'feature_names': ('Age', 'BMI', 'Glucose', 'Insulin', 'HOMA', 'Leptin', 'Resistin')}, 6: {'feature_idx': (0, 1, 2, 3, 5, 7), 'cv_scores': array([0.80172414]), 'avg_score': 0.8017241379310345, 'feature_names': ('Age', 'BMI', 'Glucose', 'Insulin', 'Leptin', 'Resistin')}, 5: {'feature_idx': (0, 1, 2, 3, 7), 'cv_scores': array([0.79310345]), 'avg_score': 0.7931034482758621, 'feature_names': ('Age', 'BMI', 'Glucose', 'Insulin', 'Resistin')}, 4: {'feature_idx': (0, 1, 2, 7), 'cv_scores': array([0.76724138]), 'avg_score': 0.7672413793103449, 'feature_names': ('Age', 'BMI', 'Glucose', 'Resistin')}, 3: {'feature_idx': (0, 2, 7), 'cv_scores': array([0.74137931]), 'avg_score': 0.7413793103448276, 'feature_names': ('Age', 'Glucose', 'Resistin')}}\n"
     ]
    }
   ],
   "source": [
    "print(sbs.subsets_)"
   ]
  },
  {
   "cell_type": "code",
   "execution_count": null,
   "id": "acff4a26",
   "metadata": {},
   "outputs": [],
   "source": [
    "'''\n",
    "k_features indicates the number of features to be selected. It can be any random value, \n",
    "but the optimal value can be found by analyzing \n",
    "and visualizing the scores for different numbers of features.\n",
    "'''"
   ]
  },
  {
   "cell_type": "code",
   "execution_count": null,
   "id": "3f59a9ef",
   "metadata": {},
   "outputs": [],
   "source": [
    "'''\n",
    "Sequential Forward and Backward Floating Selection\n",
    "Sequential forward floating selection is a variation of sequential forward selection. \n",
    "It starts with zero features and adds one feature at a time, just like sequential forward selection, \n",
    "but after each addition, it checks to see if we can improve performance by removing a feature.\n",
    "\n",
    "If performance can’t be improved, the floating algorithm will continue to the next step and add another feature.\n",
    "If performance can be improved, the algorithm will make the removal that improves performance the most \n",
    "(unless removal of that feature would lead to an infinite loop of adding and removing the same feature over \n",
    "and over again).\n",
    "For example, let’s say that the algorithm has just added weight to the feature set {age, resting_heart_rate}, \n",
    "resulting in the set {age, weight, resting_heart_rate}. The floating algorithm will test whether \n",
    "it can improve performance by removing age or resting_heart_rate. If the removal of age improves performance, \n",
    "then the algorithm will proceed with the set {weight, resting_heart_rate}.\n",
    "\n",
    "Sequential backward floating selection works similarly. Starting with all available features, \n",
    "it removes one feature at a time. After each feature removal, it will check to see if any feature additions \n",
    "will improve performance (but it won’t add any features that would result in an infinite loop).\n",
    "\n",
    "Floating selection algorithms are sometimes preferable to their non-floating counterparts because \n",
    "they test the model on more possible feature subsets. They can detect useful relationships between \n",
    "variables that plain sequential forward and backward selection might miss.\n",
    "'''"
   ]
  },
  {
   "cell_type": "code",
   "execution_count": null,
   "id": "6c8eed91",
   "metadata": {},
   "outputs": [],
   "source": [
    "'''\n",
    "Sequential Forward and Backward Floating Selection with mlxtend\n",
    "We can implement sequential forward or backward floating selection in mlxtend \n",
    "by setting the parameter floating to True. The parameter forward determines \n",
    "whether mlxtend will use sequential forward floating selection or sequential backward floating selection. \n",
    "As usual, the dictionary model.subsets_ will contain useful information about the chosen features.\n",
    "\n",
    "\n",
    "'''"
   ]
  },
  {
   "cell_type": "code",
   "execution_count": 20,
   "id": "268f680c",
   "metadata": {},
   "outputs": [
    {
     "name": "stdout",
     "output_type": "stream",
     "text": [
      "('Age', 'Glucose', 'Insulin')\n",
      "('Age', 'Glucose', 'Resistin')\n",
      "('Age', 'BMI', 'Glucose', 'Insulin', 'Leptin', 'Resistin')\n"
     ]
    },
    {
     "name": "stderr",
     "output_type": "stream",
     "text": [
      "/Users/robertfokming/opt/anaconda3/envs/feature/lib/python3.10/site-packages/numpy/core/_methods.py:265: RuntimeWarning: Degrees of freedom <= 0 for slice\n",
      "  ret = _var(a, axis=axis, dtype=dtype, out=out, ddof=ddof,\n",
      "/Users/robertfokming/opt/anaconda3/envs/feature/lib/python3.10/site-packages/numpy/core/_methods.py:257: RuntimeWarning: invalid value encountered in double_scalars\n",
      "  ret = ret.dtype.type(ret / rcount)\n"
     ]
    },
    {
     "data": {
      "image/png": "[encoded data removed]",
      "text/plain": [
       "<Figure size 640x480 with 1 Axes>"
      ]
     },
     "metadata": {},
     "output_type": "display_data"
    }
   ],
   "source": [
    "import pandas as pd\n",
    "from sklearn.linear_model import LogisticRegression\n",
    "from mlxtend.feature_selection import SequentialFeatureSelector as SFS\n",
    "\n",
    "# Load the data\n",
    "health = pd.read_csv(\"dataR2.csv\")\n",
    "X = health.iloc[:,:-1]\n",
    "y = health.iloc[:,-1]\n",
    "\n",
    "# Logistic regression model\n",
    "lr = LogisticRegression(max_iter=1000)\n",
    "\n",
    "# Sequential forward floating selection\n",
    "sffs = SFS(lr,\n",
    "          k_features=3,\n",
    "          forward=True,\n",
    "          floating=True,\n",
    "          scoring='accuracy',\n",
    "          cv=0)\n",
    "sffs.fit(X, y)\n",
    "\n",
    "# Print a tuple with the names of the features chosen by sequential forward floating selection.\n",
    "print(sffs.subsets_[3]['feature_names'])\n",
    "\n",
    "# Sequential backward floating selection\n",
    "sbfs = SFS(lr,\n",
    "          k_features=3,\n",
    "          forward=False,\n",
    "          floating=True,\n",
    "          scoring='accuracy',\n",
    "          cv=0)\n",
    "sbfs.fit(X, y)\n",
    "\n",
    "# Print a tuple with the names of the features chosen by sequential backward floating selection.\n",
    "print(sbfs.subsets_[3]['feature_names'])\n",
    "print(sbfs.subsets_[6]['feature_names'])\n",
    "# Plot the model accuracy\n",
    "plot_sfs(sbfs.get_metric_dict())\n",
    "plt.show()\n"
   ]
  },
  {
   "cell_type": "code",
   "execution_count": 21,
   "id": "eeda1ec3",
   "metadata": {},
   "outputs": [
    {
     "data": {
      "text/plain": [
       "'\\nRecursive Feature Elimination\\nRecursive feature elimination is another wrapper method for feature selection. It starts by training a model with all available features. It then ranks each feature according to an importance metric and removes the least important feature. The algorithm then trains the model on the smaller feature set, ranks those features, and removes the least important one. The process stops when the desired number of features is reached.\\n\\nIn regression problems, features are ranked by the size of the absolute value of their coefficients. For example, let’s say that we trained a regression model with five features and got the following regression coefficients.\\n'"
      ]
     },
     "execution_count": 21,
     "metadata": {},
     "output_type": "execute_result"
    }
   ],
   "source": [
    "'''\n",
    "Recursive Feature Elimination\n",
    "Recursive feature elimination is another wrapper method for feature selection. \n",
    "It starts by training a model with all available features. \n",
    "It then ranks each feature according to an importance metric and removes the least important feature. \n",
    "The algorithm then trains the model on the smaller feature set, \n",
    "ranks those features, and removes the least important one. The process stops when the desired number of features \n",
    "is reached.\n",
    "\n",
    "In regression problems, features are ranked by the size of the absolute value of their coefficients. \n",
    "For example, let’s say that we trained a regression model with five features and got the \n",
    "following regression coefficients.\n",
    "'''"
   ]
  },
  {
   "cell_type": "code",
   "execution_count": null,
   "id": "832aed9f",
   "metadata": {},
   "outputs": [],
   "source": [
    "'''\n",
    "Feature\tRegression coefficient\n",
    "age\t2.5\n",
    "height\t7.0\n",
    "weight\t-4.3\n",
    "blood_pressure\t-5.7\n",
    "resting_heart_rate\t-4.6\n",
    "\n",
    "The regression coefficient for age has the smallest absolute value, \n",
    "so it is ranked least important by recursive feature elimination. \n",
    "It will be removed, and the remaining four features will be re-ranked after the model is trained without age.\n",
    "\n",
    "It’s important to note that you might need to standardize data before doing recursive feature elimination. \n",
    "In regression problems in particular, it’s necessary to standardize data so that the scale of features \n",
    "doesn’t affect the size of the coefficients.\n",
    "\n",
    "Note that recursive feature elimination is different from sequential backward selection. \n",
    "Sequential backward selection removes features by training a model on a collection of subsets \n",
    "(one for each possible feature removal) and greedily proceeding with whatever subset performs best. \n",
    "Recursive feature elimination, on the other hand, only trains a model on one feature subset \n",
    "before deciding which feature to remove next.\n",
    "\n",
    "This is one advantage of recursive feature elimination. Since it only needs to train and \n",
    "test a model on one feature subset per feature removal, it can be much faster than the sequential \n",
    "selection methods that we’ve covered.\n",
    "'''"
   ]
  },
  {
   "cell_type": "code",
   "execution_count": null,
   "id": "d6ff0711",
   "metadata": {},
   "outputs": [],
   "source": [
    "'''\n",
    "Recursive Feature Elimination with scikit-learn\n",
    "We can use scikit-learn to implement recursive feature elimination. \n",
    "Since we’re using a logistic regression model, it’s important to standardize data before we proceed.\n",
    "\n",
    "We can standardize features using scikit-learn’s StandardScaler().\n",
    "\n",
    "Once the data is standardized, you can train the model and do recursive feature elimination \n",
    "using RFE() from scikit-learn. As before with the sequential feature selection methods, \n",
    "you have to specify a scikit-learn model for the estimator parameter (in this case, lr for our logistic regression model).\n",
    "n_features_to_select is self-explanatory: set it to the number of features you want to select.\n",
    "'''\n"
   ]
  },
  {
   "cell_type": "code",
   "execution_count": 22,
   "id": "25e744cb",
   "metadata": {},
   "outputs": [
    {
     "data": {
      "text/html": [
       "<style>#sk-container-id-3 {color: black;background-color: white;}#sk-container-id-3 pre{padding: 0;}#sk-container-id-3 div.sk-toggleable {background-color: white;}#sk-container-id-3 label.sk-toggleable__label {cursor: pointer;display: block;width: 100%;margin-bottom: 0;padding: 0.3em;box-sizing: border-box;text-align: center;}#sk-container-id-3 label.sk-toggleable__label-arrow:before {content: \"▸\";float: left;margin-right: 0.25em;color: #696969;}#sk-container-id-3 label.sk-toggleable__label-arrow:hover:before {color: black;}#sk-container-id-3 div.sk-estimator:hover label.sk-toggleable__label-arrow:before {color: black;}#sk-container-id-3 div.sk-toggleable__content {max-height: 0;max-width: 0;overflow: hidden;text-align: left;background-color: #f0f8ff;}#sk-container-id-3 div.sk-toggleable__content pre {margin: 0.2em;color: black;border-radius: 0.25em;background-color: #f0f8ff;}#sk-container-id-3 input.sk-toggleable__control:checked~div.sk-toggleable__content {max-height: 200px;max-width: 100%;overflow: auto;}#sk-container-id-3 input.sk-toggleable__control:checked~label.sk-toggleable__label-arrow:before {content: \"▾\";}#sk-container-id-3 div.sk-estimator input.sk-toggleable__control:checked~label.sk-toggleable__label {background-color: #d4ebff;}#sk-container-id-3 div.sk-label input.sk-toggleable__control:checked~label.sk-toggleable__label {background-color: #d4ebff;}#sk-container-id-3 input.sk-hidden--visually {border: 0;clip: rect(1px 1px 1px 1px);clip: rect(1px, 1px, 1px, 1px);height: 1px;margin: -1px;overflow: hidden;padding: 0;position: absolute;width: 1px;}#sk-container-id-3 div.sk-estimator {font-family: monospace;background-color: #f0f8ff;border: 1px dotted black;border-radius: 0.25em;box-sizing: border-box;margin-bottom: 0.5em;}#sk-container-id-3 div.sk-estimator:hover {background-color: #d4ebff;}#sk-container-id-3 div.sk-parallel-item::after {content: \"\";width: 100%;border-bottom: 1px solid gray;flex-grow: 1;}#sk-container-id-3 div.sk-label:hover label.sk-toggleable__label {background-color: #d4ebff;}#sk-container-id-3 div.sk-serial::before {content: \"\";position: absolute;border-left: 1px solid gray;box-sizing: border-box;top: 0;bottom: 0;left: 50%;z-index: 0;}#sk-container-id-3 div.sk-serial {display: flex;flex-direction: column;align-items: center;background-color: white;padding-right: 0.2em;padding-left: 0.2em;position: relative;}#sk-container-id-3 div.sk-item {position: relative;z-index: 1;}#sk-container-id-3 div.sk-parallel {display: flex;align-items: stretch;justify-content: center;background-color: white;position: relative;}#sk-container-id-3 div.sk-item::before, #sk-container-id-3 div.sk-parallel-item::before {content: \"\";position: absolute;border-left: 1px solid gray;box-sizing: border-box;top: 0;bottom: 0;left: 50%;z-index: -1;}#sk-container-id-3 div.sk-parallel-item {display: flex;flex-direction: column;z-index: 1;position: relative;background-color: white;}#sk-container-id-3 div.sk-parallel-item:first-child::after {align-self: flex-end;width: 50%;}#sk-container-id-3 div.sk-parallel-item:last-child::after {align-self: flex-start;width: 50%;}#sk-container-id-3 div.sk-parallel-item:only-child::after {width: 0;}#sk-container-id-3 div.sk-dashed-wrapped {border: 1px dashed gray;margin: 0 0.4em 0.5em 0.4em;box-sizing: border-box;padding-bottom: 0.4em;background-color: white;}#sk-container-id-3 div.sk-label label {font-family: monospace;font-weight: bold;display: inline-block;line-height: 1.2em;}#sk-container-id-3 div.sk-label-container {text-align: center;}#sk-container-id-3 div.sk-container {/* jupyter's `normalize.less` sets `[hidden] { display: none; }` but bootstrap.min.css set `[hidden] { display: none !important; }` so we also need the `!important` here to be able to override the default hidden behavior on the sphinx rendered scikit-learn.org. See: https://github.com/scikit-learn/scikit-learn/issues/21755 */display: inline-block !important;position: relative;}#sk-container-id-3 div.sk-text-repr-fallback {display: none;}</style><div id=\"sk-container-id-3\" class=\"sk-top-container\"><div class=\"sk-text-repr-fallback\"><pre>RFE(estimator=LogisticRegression(max_iter=1000), n_features_to_select=3)</pre><b>In a Jupyter environment, please rerun this cell to show the HTML representation or trust the notebook. <br />On GitHub, the HTML representation is unable to render, please try loading this page with nbviewer.org.</b></div><div class=\"sk-container\" hidden><div class=\"sk-item sk-dashed-wrapped\"><div class=\"sk-label-container\"><div class=\"sk-label sk-toggleable\"><input class=\"sk-toggleable__control sk-hidden--visually\" id=\"sk-estimator-id-7\" type=\"checkbox\" ><label for=\"sk-estimator-id-7\" class=\"sk-toggleable__label sk-toggleable__label-arrow\">RFE</label><div class=\"sk-toggleable__content\"><pre>RFE(estimator=LogisticRegression(max_iter=1000), n_features_to_select=3)</pre></div></div></div><div class=\"sk-parallel\"><div class=\"sk-parallel-item\"><div class=\"sk-item\"><div class=\"sk-label-container\"><div class=\"sk-label sk-toggleable\"><input class=\"sk-toggleable__control sk-hidden--visually\" id=\"sk-estimator-id-8\" type=\"checkbox\" ><label for=\"sk-estimator-id-8\" class=\"sk-toggleable__label sk-toggleable__label-arrow\">estimator: LogisticRegression</label><div class=\"sk-toggleable__content\"><pre>LogisticRegression(max_iter=1000)</pre></div></div></div><div class=\"sk-serial\"><div class=\"sk-item\"><div class=\"sk-estimator sk-toggleable\"><input class=\"sk-toggleable__control sk-hidden--visually\" id=\"sk-estimator-id-9\" type=\"checkbox\" ><label for=\"sk-estimator-id-9\" class=\"sk-toggleable__label sk-toggleable__label-arrow\">LogisticRegression</label><div class=\"sk-toggleable__content\"><pre>LogisticRegression(max_iter=1000)</pre></div></div></div></div></div></div></div></div></div></div>"
      ],
      "text/plain": [
       "RFE(estimator=LogisticRegression(max_iter=1000), n_features_to_select=3)"
      ]
     },
     "execution_count": 22,
     "metadata": {},
     "output_type": "execute_result"
    }
   ],
   "source": [
    "import pandas as pd\n",
    "import numpy as np\n",
    "from sklearn.linear_model import LogisticRegression\n",
    "from sklearn.feature_selection import RFE\n",
    "from sklearn.preprocessing import StandardScaler\n",
    "\n",
    "# Load the data\n",
    "health = pd.read_csv(\"dataR2.csv\")\n",
    "X = np.array(health.iloc[:,:-1])\n",
    "y = np.array(health.iloc[:,-1])\n",
    "\n",
    "# Standardize the data\n",
    "X = StandardScaler().fit_transform(X)\n",
    "\n",
    "# Logistic regression model\n",
    "lr = LogisticRegression(max_iter=1000)\n",
    "\n",
    "# Recursive feature elimination\n",
    "rfe = RFE(estimator=lr, n_features_to_select=3)\n",
    "rfe.fit(X, y)\n"
   ]
  },
  {
   "cell_type": "code",
   "execution_count": null,
   "id": "519645c1",
   "metadata": {},
   "outputs": [],
   "source": [
    "'''\n",
    "Evaluating the Result of Recursive Feature Elimination\n",
    "You can inspect the results of recursive feature elimination by looking at rfe.ranking_ and rfe.support_.\n",
    "\n",
    "rfe.ranking_ is an array that contains the rank of each feature. Here are the features from the fire dataset:\n",
    "\n",
    "['Temperature', 'RH', 'Ws', 'Rain', 'DMC', 'FWI']\n",
    "Here are the feature rankings after recursive feature elimination is done on the fire dataset.\n",
    "\n",
    "print(rfe.ranking_)\n",
    "[2 5 4 1 3 1]\n",
    "A 1 at a certain index indicates that recursive feature elimination \n",
    "kept the feature at the same index. In this example, the model kept the features at indices 3 and 5: Rain and FWI. The other numbers indicate at which step a feature was removed. The 5 (the highest rank in the array) at index 1 means that RH (the feature at index 1) was removed first. The 4 at index 2 means that Ws (the feature at index 2) was removed in the next step, and so on.\n",
    "\n",
    "rfe.support_ is an array with True and False values that indicate which features were chosen. \n",
    "Here’s an example of what this looks like, again using the fire dataset.\n",
    "\n",
    "This array indicates that the features at indices 3 and 5 were chosen. The features at indices 0, 1, 2, and 4 were eliminated.\n",
    "\n",
    "If you have a list of feature names, you can use a list comprehension and rfe.support_ to get a list of chosen feature names.\n",
    "\n",
    "You can use rfe.score(X, y) to check the accuracy of the model.\n",
    "\n",
    "'''"
   ]
  },
  {
   "cell_type": "code",
   "execution_count": 25,
   "id": "363a7104",
   "metadata": {},
   "outputs": [
    {
     "name": "stdout",
     "output_type": "stream",
     "text": [
      "['BMI', 'Glucose', 'Resistin']\n",
      "0.7327586206896551\n",
      "['Age', 'BMI', 'Glucose', 'Insulin', 'HOMA', 'Leptin', 'Adiponectin', 'Resistin', 'MCP.1']\n",
      "[False  True  True False False False False  True False]\n"
     ]
    }
   ],
   "source": [
    "import pandas as pd\n",
    "from sklearn.linear_model import LogisticRegression\n",
    "from sklearn.feature_selection import RFE\n",
    "from sklearn.preprocessing import StandardScaler\n",
    "\n",
    "# Load the data\n",
    "health = pd.read_csv(\"dataR2.csv\")\n",
    "X = health.iloc[:,:-1]\n",
    "y = health.iloc[:,-1]\n",
    "\n",
    "# Create a list of feature names\n",
    "feature_list = list(X.columns)\n",
    "\n",
    "# Standardize the data\n",
    "X = StandardScaler().fit_transform(X)\n",
    "\n",
    "# Logistic regression\n",
    "lr = LogisticRegression(max_iter=1000)\n",
    "\n",
    "# Recursive feature elimination\n",
    "rfe = RFE(estimator=lr, n_features_to_select=3)\n",
    "rfe.fit(X, y)\n",
    "\n",
    "# List of features chosen by recursive feature elimination\n",
    "rfe_features = [f for (f, support) in zip(feature_list, rfe.support_) if support]\n",
    "print(rfe_features)\n",
    "\n",
    "# Print the accuracy of the model with features chosen by recursive feature elimination\n",
    "print(rfe.score(X, y))\n",
    "\n",
    "print(feature_list)\n",
    "print(rfe.support_)\n"
   ]
  },
  {
   "cell_type": "code",
   "execution_count": null,
   "id": "d8137aff",
   "metadata": {},
   "outputs": [],
   "source": [
    "'''\n",
    "Wrapper methods for feature selection are algorithms that select features by evaluating the performance of a machine learning model on different subsets of features. Here are some advantages of wrapper methods.\n",
    "\n",
    "They can detect relationships between features that might be relevant to the machine learning model.\n",
    "Unlike filter methods, they are designed to choose features that are relevant to \n",
    "whatever machine learning model you are using.\n",
    "We covered four different greedy wrapper methods and implemented them using mlextend in Python.\n",
    "\n",
    "Sequential forward selection adds one feature at a time.\n",
    "Sequential backward selection removes one feature at a time.\n",
    "Sequential forward floating selection adds (and sometimes removes) one feature at a time.\n",
    "Sequential backward floating selection removes (and sometimes adds) one feature at a time.\n",
    "We also covered recursive feature elimination, which ranks features by importance and \n",
    "removes the least important feature at every step. We used the scikit-learn library to implement \n",
    "that algorithm and investigate the results.\n",
    "'''"
   ]
  }
 ],
 "metadata": {
  "kernelspec": {
   "display_name": "feature",
   "language": "python",
   "name": "feature"
  },
  "language_info": {
   "codemirror_mode": {
    "name": "ipython",
    "version": 3
   },
   "file_extension": ".py",
   "mimetype": "text/x-python",
   "name": "python",
   "nbconvert_exporter": "python",
   "pygments_lexer": "ipython3",
   "version": "3.10.6"
  }
 },
 "nbformat": 4,
 "nbformat_minor": 5
}
